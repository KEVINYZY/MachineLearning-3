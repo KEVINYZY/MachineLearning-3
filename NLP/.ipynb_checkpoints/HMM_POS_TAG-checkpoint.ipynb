{
 "cells": [
  {
   "cell_type": "markdown",
   "metadata": {},
   "source": [
    "# 使用HMM进行词性标注\n",
    "这里我们用NLTK自带的Brown词库进行学习。\n",
    "假设我们的单词集： words = w1 ... wN\n",
    "Tag集： tags = t1 ... tN\n",
    "P(tags | words) 正比于 P(ti | t{i-1}) * P(wi | ti)\n",
    "为了找一个句子的tag，\n",
    "我们其实就是找的最好的一套tags，让他最能够符合给定的单词(words)。"
   ]
  },
  {
   "cell_type": "code",
   "execution_count": 1,
   "metadata": {
    "collapsed": true
   },
   "outputs": [],
   "source": [
    "import nltk\n",
    "import sys\n",
    "from nltk.corpus import brown"
   ]
  },
  {
   "cell_type": "markdown",
   "metadata": {},
   "source": [
    "预处理词库\n",
    "这里需要做的预处理是：给词们加上开始和结束符号。\n",
    "Brown里面的句子都是自己标注好了的，长这个样子：(I , NOUN), (LOVE, VERB), (YOU, NOUN)\n",
    "那么，我们的开始符号也得跟他的格式符合，\n",
    "我们用：\n",
    "(START, START) (END, END)\n",
    "来代表"
   ]
  },
  {
   "cell_type": "code",
   "execution_count": null,
   "metadata": {
    "collapsed": true
   },
   "outputs": [],
   "source": [
    "brown_tag_word=[]\n",
    "for sent in brown.tagged_sents():\n",
    "    brown_tag_word.append((START, START))\n",
    "    # 为了省事儿，我们把tag都省略成前两个字母\n",
    "    brown_tag_word.extend((tag[:2],word) for (word,tag) in sent)\n",
    "    brown_tag_word.append((END, END))"
   ]
  }
 ],
 "metadata": {
  "kernelspec": {
   "display_name": "Python 3",
   "language": "python",
   "name": "python3"
  },
  "language_info": {
   "codemirror_mode": {
    "name": "ipython",
    "version": 3
   },
   "file_extension": ".py",
   "mimetype": "text/x-python",
   "name": "python",
   "nbconvert_exporter": "python",
   "pygments_lexer": "ipython3",
   "version": "3.5.2"
  }
 },
 "nbformat": 4,
 "nbformat_minor": 2
}
